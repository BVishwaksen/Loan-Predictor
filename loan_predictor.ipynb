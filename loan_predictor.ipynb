{
 "cells": [
  {
   "cell_type": "code",
   "execution_count": 1,
   "metadata": {},
   "outputs": [],
   "source": [
    "#Loading the model\n",
    "import pickle\n",
    "file_name = 'loan_model.sav'\n",
    "loan_model = pickle.load(open(file_name,'rb'))"
   ]
  },
  {
   "cell_type": "code",
   "execution_count": 2,
   "metadata": {},
   "outputs": [],
   "source": [
    "#Predicting the result of a wine sample\n",
    "diabetes_report = [[6,138,86,0,28.7,0.563,56]]\n",
    "loan_class = loan_model.predict(diabetes_report)"
   ]
  },
  {
   "cell_type": "code",
   "execution_count": 3,
   "metadata": {},
   "outputs": [
    {
     "name": "stdout",
     "output_type": "stream",
     "text": [
      "Its better to not to give loan\n"
     ]
    }
   ],
   "source": [
    "#converting the result to readable format\n",
    "if loan_class[0]==0:\n",
    "    print(\"Loan can be given\")\n",
    "elif loan_class[0]==1:\n",
    "    print(\"Its better to not to give loan\")"
   ]
  }
 ],
 "metadata": {
  "kernelspec": {
   "display_name": "Python 3",
   "language": "python",
   "name": "python3"
  },
  "language_info": {
   "codemirror_mode": {
    "name": "ipython",
    "version": 3
   },
   "file_extension": ".py",
   "mimetype": "text/x-python",
   "name": "python",
   "nbconvert_exporter": "python",
   "pygments_lexer": "ipython3",
   "version": "3.5.0"
  }
 },
 "nbformat": 4,
 "nbformat_minor": 2
}
